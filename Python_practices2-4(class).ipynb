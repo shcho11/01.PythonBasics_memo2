{
  "nbformat": 4,
  "nbformat_minor": 0,
  "metadata": {
    "colab": {
      "name": "Python_practices2-4(class).ipynb",
      "provenance": [],
      "authorship_tag": "ABX9TyP4xs8nLlhEY42/T7TEbrRQ",
      "include_colab_link": true
    },
    "kernelspec": {
      "name": "python3",
      "display_name": "Python 3"
    },
    "language_info": {
      "name": "python"
    }
  },
  "cells": [
    {
      "cell_type": "markdown",
      "metadata": {
        "id": "view-in-github",
        "colab_type": "text"
      },
      "source": [
        "<a href=\"https://colab.research.google.com/github/shcho11/50.PythonBasics_memo2/blob/main/Python_practices2_4(class).ipynb\" target=\"_parent\"><img src=\"https://colab.research.google.com/assets/colab-badge.svg\" alt=\"Open In Colab\"/></a>"
      ]
    },
    {
      "cell_type": "markdown",
      "source": [
        "## 파이썬에서의 class "
      ],
      "metadata": {
        "id": "27errXrPKMHh"
      }
    },
    {
      "cell_type": "markdown",
      "source": [
        "#### 1. 클래스 구조 만들기\n",
        "\n",
        "- 자, 그러면 지금부터 앞에서 구상한 것처럼 동작하는 클래스를 만들어 보자. 제일 먼저 할 일은 a = FourCal()처럼 객체를 만들 수 있게 하는 것이다. 일단은 아무 기능이 없어도 되기 때문에 매우 간단하게 만들 수 있다\n",
        "\n",
        "- 우선 대화형 인터프리터에서 pass란 문장만을 포함한 FourCal 클래스를 만든다. 현재 상태에서 FourCal 클래스는 아무 변수나 함수도 포함하지 않지만 우리가 원하는 객체 a를 만들 수 있는 기능은 가지고 있다. 확인해 보자.\n",
        "\n",
        " ※ pass는 아무것도 수행하지 않는 문법으로 임시로 코드를 작성할 때 주로 사용한다.\n",
        "\n"
      ],
      "metadata": {
        "id": "t4-oXPGFKZMa"
      }
    },
    {
      "cell_type": "code",
      "execution_count": 11,
      "metadata": {
        "id": "AEcVIlKCJklk"
      },
      "outputs": [],
      "source": [
        "class FourCal : \n",
        "    pass"
      ]
    },
    {
      "cell_type": "code",
      "source": [
        "a = FourCal()\n",
        "type(a)"
      ],
      "metadata": {
        "colab": {
          "base_uri": "https://localhost:8080/"
        },
        "id": "M344-Z38KXj8",
        "outputId": "c5cc20f0-6df6-49e5-ea18-a6d1ef831195"
      },
      "execution_count": 12,
      "outputs": [
        {
          "output_type": "execute_result",
          "data": {
            "text/plain": [
              "__main__.FourCal"
            ]
          },
          "metadata": {},
          "execution_count": 12
        }
      ]
    },
    {
      "cell_type": "markdown",
      "source": [
        "- 위와 같이 a = FourCal()로 a 객체를 먼저 만들고 그다음에 type(a)로 a 객체가 어떤 타입인지 알아보았다. 역시 객체 a가 FourCal 클래스의 객체임을 알 수 있다"
      ],
      "metadata": {
        "id": "UkyWS6ODrsN9"
      }
    },
    {
      "cell_type": "markdown",
      "source": [
        "#### 2. 객체에 숫자 지정할수 있게 만들기\n",
        "- 하지만 생성된 객체 a는 아직 아무런 기능도 하지 못한다. 이제 더하기, 나누기, 곱하기, 빼기등의 기능을 하는 객체를 만들어야 한다. 그런데 이러한 기능을 갖춘 객체를 만들려면 우선 a 객체에 사칙연산을 할 때 사용할 2개의 숫자를 먼저 알려주어야 한다. 다음과 같이 연산을 수행할 대상(4, 2)을 객체에 지정할 수 있게 만들어 보자."
      ],
      "metadata": {
        "id": "VQUdOYqTryOw"
      }
    },
    {
      "cell_type": "code",
      "source": [
        "class FourCal : \n",
        "  def setdata(self, first, second) :     # 메서드의 매개변수\n",
        "    self.first = first                   # 메서드의 수행문\n",
        "    self.second = second                 # 메서드의 수행문"
      ],
      "metadata": {
        "id": "slxZPy25s6wo"
      },
      "execution_count": 18,
      "outputs": []
    },
    {
      "cell_type": "markdown",
      "source": [
        "- 앞에서 만든 FourCal 클래스에서 pass 문장을 삭제하고 그 대신 setdata 함수를 만들었다. 클래스 안에 구현된 함수는 다른 말로 메서드(Method)라고 부른다. 앞으로 클래스 내부의 함수는 항상 메서드라고 표현할 테니 메서드라는 용어를 기억해 두자."
      ],
      "metadata": {
        "id": "5_m-rSAmtJ_8"
      }
    },
    {
      "cell_type": "markdown",
      "source": [
        "① setdata 메서드의 매개변수\n",
        "- setdata 메서드는 매개변수로 self, first, second 3개 입력값을 받는다. 그런데 일반 함수와는 달리 메서드의 첫 번째 매개변수 self는 특별한 의미를 가진다.\n",
        "\n",
        "- 다음과 같이 a 객체를 만들고 a 객체를 통해 setdata 메서드를 호출해 보자."
      ],
      "metadata": {
        "id": "7cxRAPjetyhW"
      }
    },
    {
      "cell_type": "code",
      "source": [
        "a = FourCal()\n",
        "a.setdata(4,2)"
      ],
      "metadata": {
        "id": "VMQKcbC5t4O0"
      },
      "execution_count": 19,
      "outputs": []
    },
    {
      "cell_type": "markdown",
      "source": [
        "- 그런데 뭔가 좀 이상하지 않은가? setdata 메서드에는 self, first, second 총 3개의 매개변수가 필요한데 실제로는 a.setdata(4, 2)처럼 2개 값만 전달했다. 왜 그럴까? 그 이유는 a.setdata(4, 2)처럼 호출하면 setdata 메서드의 첫 번째 매개변수 self에는 setdata메서드를 호출한 객체 a가 자동으로 전달되기 때문이다. 다음 그림을 보면 객체를 호출할 때 입력한 값이 메서드에 어떻게 전달되는지 쉽게 이해할 수 있을 것이다.\n",
        "<img src = \"https://wikidocs.net/images/page/12392/setdata.png\">\n",
        "\n",
        "\n",
        "- 파이썬 메서드의 첫 번째 매개변수 이름은 관례적으로 self를 사용한다. 객체를 호출할 때 호출한 객체 자신이 전달되기 때문에 self를 사용한 것이다. 물론 self말고 다른 이름을 사용해도 상관없다.\n",
        "\n",
        " ※ 메서드의 첫 번째 매개변수 self를 명시적으로 구현하는 것은 파이썬만의 독특한 특징이다. 예를 들어 자바 같은 언어는 첫 번째 매개변수 self가 필요없다."
      ],
      "metadata": {
        "id": "kH4m-FROuDIm"
      }
    },
    {
      "cell_type": "markdown",
      "source": [
        "② setdata 메서드의 수행문\n",
        "- 이제 setdata 메서드의 수행문에 대해 알아보자.\n",
        "- a.setdata(4, 2)처럼 호출하면 setdata 메서드의 매개변수 first, second에는 각각 값 4와 2가 전달되어 setdata 메서드의 수행문은 다음과 같이 해석된다.\n",
        "   <br> self.first = 4\n",
        "   <br> self.second = 2\n",
        "- self는 전달된 객체 a이므로 다시 다음과 같이 해석된다.\n",
        "   <br> a.first = 4\n",
        "   <br> a.second = 2\n",
        "\n",
        "- a.first = 4 문장이 수행되면 a 객체에 객체변수 first가 생성되고 값 4가 저장된다. 마찬가지로 a.second = 2 문장이 수행되면 a 객체에 객체변수 second가 생성되고 값 2가 저장된다.\n",
        "\n",
        "   ※ 객체에 생성되는 객체만의 변수를 객체변수라고 부른다."
      ],
      "metadata": {
        "id": "jnflqgm9vNLc"
      }
    },
    {
      "cell_type": "code",
      "source": [
        "# 확인해보자 \n",
        "\n",
        "a = FourCal()\n",
        "a.setdata(4,2)\n",
        "print(a.first)\n",
        "print(a.second)"
      ],
      "metadata": {
        "colab": {
          "base_uri": "https://localhost:8080/"
        },
        "id": "Uv5PCKdGr940",
        "outputId": "25d2632a-e55c-4619-ae90-7d762a49f198"
      },
      "execution_count": 20,
      "outputs": [
        {
          "output_type": "stream",
          "name": "stdout",
          "text": [
            "4\n",
            "2\n"
          ]
        }
      ]
    },
    {
      "cell_type": "markdown",
      "source": [
        "- 이번에는 다음과 같이 a, b 객체를 만들어 보자.\n",
        "- **a 객체의 first 값은 b 객체의 first 값에 영향받지 않고 원래 값을 유지하고 있음을 확인할 수 있다.** 이 예제를 통해 여러분에게 강조하고 싶은 점이 바로 이것이다. **클래스로 만든 객체의 객체변수는 다른 객체의 객체변수에 상관없이 독립적인 값을 유지한다.** 클래스에서는 이 부분을 이해하는 것이 가장 중요하다."
      ],
      "metadata": {
        "id": "I7rW3vUQwQ35"
      }
    },
    {
      "cell_type": "code",
      "source": [
        "a = FourCal()\n",
        "b = FourCal()"
      ],
      "metadata": {
        "id": "AYEkMH4VwFnV"
      },
      "execution_count": 21,
      "outputs": []
    },
    {
      "cell_type": "code",
      "source": [
        "a.setdata(4,2)\n",
        "b.setdata(3,7)"
      ],
      "metadata": {
        "id": "g-06feSkweKm"
      },
      "execution_count": 22,
      "outputs": []
    },
    {
      "cell_type": "code",
      "source": [
        "# a 객체의 first는 기존 값 4를 유지한다\n",
        "print(a.first)"
      ],
      "metadata": {
        "colab": {
          "base_uri": "https://localhost:8080/"
        },
        "id": "bayXIEp8wnzw",
        "outputId": "6f2ed597-9ab4-46d4-8875-462f7807d956"
      },
      "execution_count": 24,
      "outputs": [
        {
          "output_type": "stream",
          "name": "stdout",
          "text": [
            "4\n"
          ]
        }
      ]
    },
    {
      "cell_type": "markdown",
      "source": [
        "#### 3. 더하기 기능 만들기"
      ],
      "metadata": {
        "id": "liTFCUCg0rWc"
      }
    },
    {
      "cell_type": "code",
      "source": [
        "class FourCal : \n",
        "  def setdata(self, first, second) : \n",
        "    self.first = first \n",
        "    self.second = second \n",
        "  def add(self) : \n",
        "    result = self.first + self.second\n",
        "    return result"
      ],
      "metadata": {
        "id": "pWPQYXvmwpmZ"
      },
      "execution_count": 25,
      "outputs": []
    },
    {
      "cell_type": "markdown",
      "source": [
        "- a.add()와 같이 a 객체에 의해 add 메서드가 수행되면 add 메서드의 self에는 객체 a가 자동으로 입력되므로 위 내용은 다음과 같이 해석한다.\n",
        "  <br> result = a.first + a.second\n",
        "- 위 내용은 a.add() 메서드 호출 전에 a.setdata(4, 2) 가 먼저 호출되어 a.first = 4, a.second = 2 라고 이미 설정되었기 때문에 다시 다음과 같이 해석한다.\n",
        "  <br> result = 4 + 2\n",
        "- 따라서 다음과 같이 a.add()를 호출하면 6을 돌려준다."
      ],
      "metadata": {
        "id": "wBnoUZuU1QYe"
      }
    },
    {
      "cell_type": "code",
      "source": [
        "a = FourCal()\n",
        "a.setdata(4,2)\n",
        "\n",
        "print(a.add())"
      ],
      "metadata": {
        "colab": {
          "base_uri": "https://localhost:8080/"
        },
        "id": "WCj1VSpN1AXM",
        "outputId": "f16b8a79-98a2-497a-e8ae-f600a7551e2f"
      },
      "execution_count": 26,
      "outputs": [
        {
          "output_type": "stream",
          "name": "stdout",
          "text": [
            "6\n"
          ]
        }
      ]
    },
    {
      "cell_type": "markdown",
      "source": [
        "#### 4. 곱하기/빼기/나누기 기능 만들기"
      ],
      "metadata": {
        "id": "SxQU3e7g18ZC"
      }
    },
    {
      "cell_type": "code",
      "source": [
        "class FourCal : \n",
        "  def setdata(self, first, second) : \n",
        "    self.first = first \n",
        "    self.second = second \n",
        "  def add(self) : \n",
        "    result = self.first + self.second\n",
        "    return result\n",
        "  def mul(self) : \n",
        "    result = self.first * self.second\n",
        "    return result\n",
        "  def sub(self) : \n",
        "    result = self.first - self.second\n",
        "    return result\n",
        "  def div(self) : \n",
        "    result = self.first / self.second\n",
        "    return result"
      ],
      "metadata": {
        "id": "9v8SOfp_1K4x"
      },
      "execution_count": 27,
      "outputs": []
    },
    {
      "cell_type": "code",
      "source": [
        "a = FourCal()\n",
        "b = FourCal()\n",
        "\n",
        "a.setdata(4,2)\n",
        "b.setdata(3,7)\n",
        "\n",
        "print(a.add())\n",
        "print(b.add())\n",
        "\n",
        "print(a.mul())\n",
        "print(b.mul())\n",
        "\n",
        "print(a.sub())\n",
        "print(b.sub())\n",
        "\n",
        "print(a.div())\n",
        "print(b.div()) "
      ],
      "metadata": {
        "colab": {
          "base_uri": "https://localhost:8080/"
        },
        "id": "vjwrRIqM2VHC",
        "outputId": "7a5e7c9f-4073-45ce-cf58-922bb0e2be53"
      },
      "execution_count": 28,
      "outputs": [
        {
          "output_type": "stream",
          "name": "stdout",
          "text": [
            "6\n",
            "10\n",
            "8\n",
            "21\n",
            "2\n",
            "-4\n",
            "2.0\n",
            "0.42857142857142855\n"
          ]
        }
      ]
    },
    {
      "cell_type": "markdown",
      "source": [
        "#### 5. 생성자(Constructor)\n",
        "\n",
        "- FourCal 클래스의 인스턴스 a에 setdata 메서드를 수행하지 않고 add 메서드를 수행하면 \"AttributeError: 'FourCal' object has no attribute 'first'\" 오류가 발생한다. setdata 메서드를 수행해야 객체 a의 객체변수 first와 second가 생성되기 때문이다.\n",
        "- 이렇게 객체에 초깃값을 설정해야 할 필요가 있을 때는 setdata와 같은 메서드를 호출하여 초깃값을 설정하기보다는 생성자를 구현하는 것이 안전한 방법이다. 생성자(Constructor)란 객체가 생성될 때 자동으로 호출되는 메서드를 의미한다.\n",
        "- 파이썬 메서드 이름으로 __init__를 사용하면 이 메서드는 생성자가 된다. 다음과 같이 FourCal 클래스에 생성자를 추가해 보자.\n",
        "  <br> ※ __ __init__ __ 메서드의 init 앞뒤로 붙은 __는 언더스코어(_) 두 개를 붙여 쓴 것이다.\n"
      ],
      "metadata": {
        "id": "ffkqJF2e21W_"
      }
    },
    {
      "cell_type": "code",
      "source": [
        "class FourCal : \n",
        "  def __init__(self, first, second) : \n",
        "    self.first = first \n",
        "    self.second = second \n",
        "  def setdata(self, first, second) : \n",
        "    self.first = first \n",
        "    self.second = second \n",
        "  def add(self) : \n",
        "    result = self.first + self.second\n",
        "    return result\n",
        "  def mul(self) : \n",
        "    result = self.first * self.second\n",
        "    return result\n",
        "  def sub(self) : \n",
        "    result = self.first - self.second\n",
        "    return result\n",
        "  def div(self) : \n",
        "    result = self.first / self.second\n",
        "    return result"
      ],
      "metadata": {
        "id": "ZO3dnmFk2mh0"
      },
      "execution_count": 29,
      "outputs": []
    },
    {
      "cell_type": "markdown",
      "source": [
        "- __ init __ 메서드는 setdata 메서드와 이름만 다르고 모든 게 동일하다. 단 메서드 이름을 __ init __으로 했기 때문에 생성자로 인식되어 객체가 생성되는 시점에 자동으로 호출되는 차이가 있다."
      ],
      "metadata": {
        "id": "vzmOP9ft3xPK"
      }
    },
    {
      "cell_type": "code",
      "source": [
        "a = FourCal(4,2)\n",
        "\n",
        "print(a.first)\n",
        "print(a.second)"
      ],
      "metadata": {
        "colab": {
          "base_uri": "https://localhost:8080/"
        },
        "id": "QHEZRlYz3xBN",
        "outputId": "246e8c83-fdd1-40e0-dfb2-dcafa1cb207d"
      },
      "execution_count": 30,
      "outputs": [
        {
          "output_type": "stream",
          "name": "stdout",
          "text": [
            "4\n",
            "2\n"
          ]
        }
      ]
    },
    {
      "cell_type": "code",
      "source": [
        "print(a.add())\n",
        "print(a.mul())"
      ],
      "metadata": {
        "colab": {
          "base_uri": "https://localhost:8080/"
        },
        "id": "2Vme-TEl3wOX",
        "outputId": "6e7b1b3e-41d2-4cba-cb6f-315f5515e25a"
      },
      "execution_count": 31,
      "outputs": [
        {
          "output_type": "stream",
          "name": "stdout",
          "text": [
            "6\n",
            "8\n"
          ]
        }
      ]
    },
    {
      "cell_type": "markdown",
      "source": [
        "#### 6. 클래스의 상속\n",
        "\n",
        "- 상속(Inheritance)이란 \"물려받다\"라는 뜻으로, \"재산을 상속받다\"라고 할 때의 상속과 같은 의미이다. 클래스에도 이 개념을 적용할 수 있다. 어떤 클래스를 만들 때 다른 클래스의 기능을 물려받을 수 있게 만드는 것이다. 이번에는 상속 개념을 사용하여 우리가 만든 FourCal 클래스에 ab (a의 b제곱)을 구할 수 있는 기능을 추가해 보자.\n",
        "- 앞에서 FourCal 클래스는 이미 만들어 놓았으므로 FourCal 클래스를 상속하는 InheritFourCal 클래스는 다음과 같이 간단하게 만들 수 있다.\n",
        "- 클래스를 상속하기 위해서는 다음처럼 클래스 이름 뒤 괄호 안에 상속할 클래스 이름을 넣어주면 된다.\n",
        "  <br> __class 클래스 이름(상속할 클래스 이름)__\n",
        "\n",
        "- InheritFourCal 클래스는 FourCal 클래스를 상속했으므로 FourCal 클래스의 모든 기능을 사용할 수 있어야 한다."
      ],
      "metadata": {
        "id": "Sb4-N55R4vuw"
      }
    },
    {
      "cell_type": "code",
      "source": [
        "class InheritFourCal(FourCal) : \n",
        "  pass"
      ],
      "metadata": {
        "id": "1azVR7Vg4dUB"
      },
      "execution_count": 32,
      "outputs": []
    },
    {
      "cell_type": "code",
      "source": [
        "a = InheritFourCal(4,2)\n",
        "\n",
        "a.add()"
      ],
      "metadata": {
        "colab": {
          "base_uri": "https://localhost:8080/"
        },
        "id": "c8T6-9XK5I4K",
        "outputId": "17b81425-cd46-44cb-d5ae-25079bfb31d7"
      },
      "execution_count": 33,
      "outputs": [
        {
          "output_type": "execute_result",
          "data": {
            "text/plain": [
              "6"
            ]
          },
          "metadata": {},
          "execution_count": 33
        }
      ]
    },
    {
      "cell_type": "markdown",
      "source": [
        "__왜 상속을 해야 할까?__ <br> \n",
        "보통 상속은 기존 클래스를 변경하지 않고 기능을 추가하거나 기존 기능을 변경하려고 할 때 사용한다.\n",
        "\n",
        "\"클래스에 기능을 추가하고 싶으면 기존 클래스를 수정하면 되는데 왜 굳이 상속을 받아서 처리해야 하지?\" 라는 의문이 들 수도 있다. 하지만 기존 클래스가 라이브러리 형태로 제공되거나 수정이 허용되지 않는 상황이라면 상속을 사용해야 한다."
      ],
      "metadata": {
        "id": "grlmRAR65YZM"
      }
    },
    {
      "cell_type": "code",
      "source": [
        "class InheritFourCal(FourCal) : \n",
        "  def pow(self) : \n",
        "    result = self.first ** self.second\n",
        "    return result"
      ],
      "metadata": {
        "id": "oN1aCFmf5Tzx"
      },
      "execution_count": 34,
      "outputs": []
    },
    {
      "cell_type": "code",
      "source": [
        "a = InheritFourCal(4,2)\n",
        "\n",
        "a.pow()"
      ],
      "metadata": {
        "colab": {
          "base_uri": "https://localhost:8080/"
        },
        "id": "A32JtHX95sm9",
        "outputId": "b031ae10-b4b5-467d-fb21-414f62f3604e"
      },
      "execution_count": 35,
      "outputs": [
        {
          "output_type": "execute_result",
          "data": {
            "text/plain": [
              "16"
            ]
          },
          "metadata": {},
          "execution_count": 35
        }
      ]
    },
    {
      "cell_type": "markdown",
      "source": [
        "- InheritFourCal 클래스로 만든 a 객체에 값 4와 2를 설정한 후 pow 메서드를 호출하면 4의 2제곱 (42)인 16을 돌려주는 것을 확인할 수 있다.\n",
        "- 상속은 InheritFourCal 클래스처럼 기존 클래스(FourCal)는 그대로 놔둔 채 클래스의 기능을 확장시킬 때 주로 사용한다."
      ],
      "metadata": {
        "id": "ep9CoADi5zqa"
      }
    },
    {
      "cell_type": "markdown",
      "source": [
        "#### 7. 메서드 오버라이딩(덮어쓰기)\n",
        "- FourCal 클래스의 객체 a에 4와 0 값을 설정하고 div 메서드를 호출하면 4를 0으로 나누려고 하기 때문에 위와 같은 ZeroDivisionError 오류가 발생한다. 하지만 0으로 나눌 때 오류가 아닌 0을 돌려주도록 만들고 싶다면 어떻게 해야 할까?\n",
        "- SafeFourCal 클래스는 FourCal 클래스에 있는 div 메서드를 동일한 이름으로 다시 작성하였다. 이렇게 부모 클래스(상속한 클래스)에 있는 메서드를 동일한 이름으로 다시 만드는 것을 메서드 오버라이딩(Overriding, 덮어쓰기)이라고 한다. 이렇게 메서드를 오버라이딩하면 부모클래스의 메서드 대신 오버라이딩한 메서드가 호출된다.\n",
        "- SafeFourCal 클래스에 오버라이딩한 div 메서드는 나누는 값이 0인 경우에는 0을 돌려주도록 수정했다. 이제 다시 위에서 수행한 예제를 FourCal 클래스 대신 SafeFourCal 클래스를 사용하여 수행해 보자."
      ],
      "metadata": {
        "id": "LUmXU1B-6RpO"
      }
    },
    {
      "cell_type": "code",
      "source": [
        "a = FourCal(4,0)\n",
        "\n",
        "a.div()"
      ],
      "metadata": {
        "colab": {
          "base_uri": "https://localhost:8080/",
          "height": 322
        },
        "id": "isKrz98963fp",
        "outputId": "87a9a05e-0ed7-4c1b-8cb8-b51e1af71ec4"
      },
      "execution_count": 38,
      "outputs": [
        {
          "output_type": "error",
          "ename": "ZeroDivisionError",
          "evalue": "ignored",
          "traceback": [
            "\u001b[0;31m---------------------------------------------------------------------------\u001b[0m",
            "\u001b[0;31mZeroDivisionError\u001b[0m                         Traceback (most recent call last)",
            "\u001b[0;32m<ipython-input-38-d9385c292a8a>\u001b[0m in \u001b[0;36m<module>\u001b[0;34m()\u001b[0m\n\u001b[1;32m      1\u001b[0m \u001b[0ma\u001b[0m \u001b[0;34m=\u001b[0m \u001b[0mFourCal\u001b[0m\u001b[0;34m(\u001b[0m\u001b[0;36m4\u001b[0m\u001b[0;34m,\u001b[0m\u001b[0;36m0\u001b[0m\u001b[0;34m)\u001b[0m\u001b[0;34m\u001b[0m\u001b[0;34m\u001b[0m\u001b[0m\n\u001b[1;32m      2\u001b[0m \u001b[0;34m\u001b[0m\u001b[0m\n\u001b[0;32m----> 3\u001b[0;31m \u001b[0ma\u001b[0m\u001b[0;34m.\u001b[0m\u001b[0mdiv\u001b[0m\u001b[0;34m(\u001b[0m\u001b[0;34m)\u001b[0m\u001b[0;34m\u001b[0m\u001b[0;34m\u001b[0m\u001b[0m\n\u001b[0m",
            "\u001b[0;32m<ipython-input-29-f6647f982c36>\u001b[0m in \u001b[0;36mdiv\u001b[0;34m(self)\u001b[0m\n\u001b[1;32m     16\u001b[0m     \u001b[0;32mreturn\u001b[0m \u001b[0mresult\u001b[0m\u001b[0;34m\u001b[0m\u001b[0;34m\u001b[0m\u001b[0m\n\u001b[1;32m     17\u001b[0m   \u001b[0;32mdef\u001b[0m \u001b[0mdiv\u001b[0m\u001b[0;34m(\u001b[0m\u001b[0mself\u001b[0m\u001b[0;34m)\u001b[0m \u001b[0;34m:\u001b[0m\u001b[0;34m\u001b[0m\u001b[0;34m\u001b[0m\u001b[0m\n\u001b[0;32m---> 18\u001b[0;31m     \u001b[0mresult\u001b[0m \u001b[0;34m=\u001b[0m \u001b[0mself\u001b[0m\u001b[0;34m.\u001b[0m\u001b[0mfirst\u001b[0m \u001b[0;34m/\u001b[0m \u001b[0mself\u001b[0m\u001b[0;34m.\u001b[0m\u001b[0msecond\u001b[0m\u001b[0;34m\u001b[0m\u001b[0;34m\u001b[0m\u001b[0m\n\u001b[0m\u001b[1;32m     19\u001b[0m     \u001b[0;32mreturn\u001b[0m \u001b[0mresult\u001b[0m\u001b[0;34m\u001b[0m\u001b[0;34m\u001b[0m\u001b[0m\n",
            "\u001b[0;31mZeroDivisionError\u001b[0m: division by zero"
          ]
        }
      ]
    },
    {
      "cell_type": "code",
      "source": [
        "class SafeFourCal(FourCal) : \n",
        "  def div(self) : \n",
        "    if self.second == 0 : \n",
        "      return 0\n",
        "    else : \n",
        "      return self.first / self.second"
      ],
      "metadata": {
        "id": "VWBE4eGS5xbv"
      },
      "execution_count": 36,
      "outputs": []
    },
    {
      "cell_type": "code",
      "source": [
        "c = SafeFourCal(4,0)\n",
        "\n",
        "c.div()"
      ],
      "metadata": {
        "colab": {
          "base_uri": "https://localhost:8080/"
        },
        "id": "eAuxOQ2P6tyb",
        "outputId": "5c43650c-9ac1-49f2-8431-8b0bbf7dc8fa"
      },
      "execution_count": 39,
      "outputs": [
        {
          "output_type": "execute_result",
          "data": {
            "text/plain": [
              "0"
            ]
          },
          "metadata": {},
          "execution_count": 39
        }
      ]
    },
    {
      "cell_type": "markdown",
      "source": [
        "#### 7. 클래스 변수\n",
        "- 객체변수는 다른 객체들에 영향받지 않고 독립적으로 그 값을 유지한다는 점을 이미 알아보았다. 이번에는 객체변수와는 성격이 다른 클래스 변수에 대해 알아보자.\n",
        "- Family 클래스에 선언한 lastname이 바로 클래스 변수이다. 클래스 변수는 클래스 안에 함수를 선언하는 것과 마찬가지로 클래스 안에 변수를 선언하여 생성한다."
      ],
      "metadata": {
        "id": "1ZYzZFOG7MHs"
      }
    },
    {
      "cell_type": "code",
      "source": [
        "class Family : \n",
        "  lastname = \"김\""
      ],
      "metadata": {
        "id": "AXi1x3oC7Te_"
      },
      "execution_count": 40,
      "outputs": []
    },
    {
      "cell_type": "markdown",
      "source": [
        "- 이제 Family 클래스를 다음과 같이 사용해 보자."
      ],
      "metadata": {
        "id": "Owk7WqyK7iaW"
      }
    },
    {
      "cell_type": "code",
      "source": [
        "print(Family.lastname)"
      ],
      "metadata": {
        "colab": {
          "base_uri": "https://localhost:8080/"
        },
        "id": "Sqv--5Yp7gjQ",
        "outputId": "7bee9d14-c7b3-4b04-86ff-46574f32421a"
      },
      "execution_count": 41,
      "outputs": [
        {
          "output_type": "stream",
          "name": "stdout",
          "text": [
            "김\n"
          ]
        }
      ]
    },
    {
      "cell_type": "markdown",
      "source": [
        "- 클래스 변수는 위 예와 같이 클래스이름.클래스 변수로 사용할 수 있다. \n",
        "<br> 또는 다음과 같이 Family 클래스로 만든 객체를 통해서도 클래스 변수를 사용할 수 있다."
      ],
      "metadata": {
        "id": "TvSiuf6_7oAT"
      }
    },
    {
      "cell_type": "code",
      "source": [
        "a = Family()\n",
        "b = Family()\n",
        "\n",
        "print(a.lastname)\n",
        "print(b.lastname)"
      ],
      "metadata": {
        "colab": {
          "base_uri": "https://localhost:8080/"
        },
        "id": "ojmUg8i-7mU5",
        "outputId": "eced0d0e-c357-4a57-f05b-c7def785a127"
      },
      "execution_count": 42,
      "outputs": [
        {
          "output_type": "stream",
          "name": "stdout",
          "text": [
            "김\n",
            "김\n"
          ]
        }
      ]
    },
    {
      "cell_type": "markdown",
      "source": [
        "- 만약 Family 클래스의 lastname을 다음과 같이 \"박\"이라는 문자열로 바꾸면 어떻게 될까?"
      ],
      "metadata": {
        "id": "tKJX6b-P72L9"
      }
    },
    {
      "cell_type": "code",
      "source": [
        "Family.lastname = \"박\""
      ],
      "metadata": {
        "id": "4-CIwisR7zI1"
      },
      "execution_count": 44,
      "outputs": []
    },
    {
      "cell_type": "code",
      "source": [
        "print(a.lastname)\n",
        "print(b.lastname)"
      ],
      "metadata": {
        "colab": {
          "base_uri": "https://localhost:8080/"
        },
        "id": "TOTJTlT875it",
        "outputId": "563c4c61-c57d-4f97-e3d4-0103cf485d88"
      },
      "execution_count": 45,
      "outputs": [
        {
          "output_type": "stream",
          "name": "stdout",
          "text": [
            "박\n",
            "박\n"
          ]
        }
      ]
    },
    {
      "cell_type": "markdown",
      "source": [
        "- 클래스 변수 값을 변경했더니 클래스로 만든 객체의 lastname 값도 모두 변경된다는 것을 확인할 수 있다. <br> **즉 클래스 변수는 클래스로 만든 모든 객체에 공유된다는 특징이 있다.**\n",
        "\n",
        "- 클래스 변수를 가장 늦게 설명하는 이유는 클래스에서 클래스 변수보다는 객체변수가 훨씬 중요하기 때문이다. 실무 프로그래밍을 할 때도 클래스 변수보다는 객체변수를 사용하는 비율이 훨씬 높다."
      ],
      "metadata": {
        "id": "0gPQeGpo8B4Q"
      }
    },
    {
      "cell_type": "markdown",
      "source": [
        "참고문서 : 점프투파이썬 05장 파이썬날개달기 / 05-1 클래스 https://wikidocs.net/28"
      ],
      "metadata": {
        "id": "H-zmTOJU8d7L"
      }
    },
    {
      "cell_type": "code",
      "source": [
        ""
      ],
      "metadata": {
        "id": "lac90w9t8ntj"
      },
      "execution_count": null,
      "outputs": []
    }
  ]
}
