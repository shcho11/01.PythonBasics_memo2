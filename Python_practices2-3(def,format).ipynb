{
  "nbformat": 4,
  "nbformat_minor": 0,
  "metadata": {
    "colab": {
      "name": "Python_practices2-3(def,format).ipynb",
      "provenance": [],
      "collapsed_sections": [],
      "authorship_tag": "ABX9TyPOylNBu4Srtf7PHDFzMIk+",
      "include_colab_link": true
    },
    "kernelspec": {
      "name": "python3",
      "display_name": "Python 3"
    },
    "language_info": {
      "name": "python"
    }
  },
  "cells": [
    {
      "cell_type": "markdown",
      "metadata": {
        "id": "view-in-github",
        "colab_type": "text"
      },
      "source": [
        "<a href=\"https://colab.research.google.com/github/shcho11/01.PythonBasics_memo2/blob/main/Python_practices2_3(def%2Cformat).ipynb\" target=\"_parent\"><img src=\"https://colab.research.google.com/assets/colab-badge.svg\" alt=\"Open In Colab\"/></a>"
      ]
    },
    {
      "cell_type": "markdown",
      "source": [
        "#**def**"
      ],
      "metadata": {
        "id": "m5DpoLGeGrcp"
      }
    },
    {
      "cell_type": "code",
      "execution_count": 21,
      "metadata": {
        "id": "yOAk-aFT9VxH"
      },
      "outputs": [],
      "source": [
        "def func1():\n",
        "    print('BlockDMask')"
      ]
    },
    {
      "cell_type": "code",
      "source": [
        "func1()"
      ],
      "metadata": {
        "colab": {
          "base_uri": "https://localhost:8080/"
        },
        "id": "owg_6D4G9aNS",
        "outputId": "0fa1be22-1d45-414a-b2a6-94e8e975bc10"
      },
      "execution_count": 22,
      "outputs": [
        {
          "output_type": "stream",
          "name": "stdout",
          "text": [
            "BlockDMask\n"
          ]
        }
      ]
    },
    {
      "cell_type": "code",
      "source": [
        "func1()\n",
        "func1()\n",
        "func1()"
      ],
      "metadata": {
        "colab": {
          "base_uri": "https://localhost:8080/"
        },
        "id": "6GN-DFYE9gIy",
        "outputId": "28923003-4e29-46ee-9d3c-bcc82d32df32"
      },
      "execution_count": 23,
      "outputs": [
        {
          "output_type": "stream",
          "name": "stdout",
          "text": [
            "BlockDMask\n",
            "BlockDMask\n",
            "BlockDMask\n"
          ]
        }
      ]
    },
    {
      "cell_type": "markdown",
      "source": [
        "\n",
        "\n",
        "*   입력만 있는 함수\n",
        "\n",
        "def 함수이름(매개변수1, 매개변수2, ... ):\n",
        "    수행문장\n"
      ],
      "metadata": {
        "id": "inBvZQSbIAuo"
      }
    },
    {
      "cell_type": "code",
      "source": [
        "def func2(a, b):\n",
        "    print(f'{a} 곱하기 {b} = {a * b}')"
      ],
      "metadata": {
        "id": "QbTFQ2Pg-MnL"
      },
      "execution_count": null,
      "outputs": []
    },
    {
      "cell_type": "code",
      "source": [
        "func2(1, 2)\n",
        "func2(1, 3)\n",
        "func2(2, 4)"
      ],
      "metadata": {
        "colab": {
          "base_uri": "https://localhost:8080/"
        },
        "id": "FHfeazAi-RDJ",
        "outputId": "1af070ef-e609-47e3-a615-7557d626194e"
      },
      "execution_count": null,
      "outputs": [
        {
          "output_type": "stream",
          "name": "stdout",
          "text": [
            "1 곱하기 2 = 2\n",
            "1 곱하기 3 = 3\n",
            "2 곱하기 4 = 8\n"
          ]
        }
      ]
    },
    {
      "cell_type": "markdown",
      "source": [
        "\n",
        "\n",
        "*   반환값만 있는 함수\n",
        "\n",
        "def 함수이름():\n",
        "    수행문장\n",
        "    return 반환값\n",
        "\n"
      ],
      "metadata": {
        "id": "JVXDoIVlIJ56"
      }
    },
    {
      "cell_type": "code",
      "source": [
        "def func3():\n",
        "    return \"abcdefg\"\n",
        " \n",
        " \n",
        "a = func3()\n",
        "print(a + \"GG\")"
      ],
      "metadata": {
        "colab": {
          "base_uri": "https://localhost:8080/"
        },
        "id": "Pt5xj2y9Ir4H",
        "outputId": "2ddd6efb-dad1-4eb4-b353-b56993915fe4"
      },
      "execution_count": 24,
      "outputs": [
        {
          "output_type": "stream",
          "name": "stdout",
          "text": [
            "abcdefgGG\n"
          ]
        }
      ]
    },
    {
      "cell_type": "code",
      "source": [
        "'''\n",
        "이렇게 return 뒤에 반환하고자 하는 값을 넣으면 함수 밖에서 값을 받아서 사용할 수 있습니다.\n",
        "func3() 함수를 호출하고 그 앞에 = 을 통해서 변수를 선언하여 그 변수에 반환값을 받는것 입니다. 그러면 우리는 그 변수 a를 통해서 func3()의 반환 값을 이용할 수 있습니다.\n",
        "'''"
      ],
      "metadata": {
        "id": "8DwN4ki7JLRb"
      },
      "execution_count": null,
      "outputs": []
    },
    {
      "cell_type": "markdown",
      "source": [
        "* 입력, 반환값이 둘다 있는 함수\n",
        "\n",
        "def 함수이름(매개변수1, 매개변수2 ...):\n",
        "    수행문장\n",
        "    return 반환값"
      ],
      "metadata": {
        "id": "9jxWcTGdJSH3"
      }
    },
    {
      "cell_type": "code",
      "source": [
        "def func4(a, b):\n",
        "    return a * b\n",
        " \n",
        " \n",
        "c = func4(3, 9)\n",
        "print(c)"
      ],
      "metadata": {
        "colab": {
          "base_uri": "https://localhost:8080/"
        },
        "id": "cFRPzcoYJrRN",
        "outputId": "2c780d32-28c8-4779-aa1c-1285c3fe4ac1"
      },
      "execution_count": 26,
      "outputs": [
        {
          "output_type": "stream",
          "name": "stdout",
          "text": [
            "27\n"
          ]
        }
      ]
    },
    {
      "cell_type": "code",
      "source": [
        "# 구구단 함수 버전\n",
        "def gugudan(num):\n",
        "    for i in range(1, 10):\n",
        "        print(f'{num} x {i} = {num * i}')\n",
        " \n",
        "# 구구단 출력\n",
        "gugudan(2)\n",
        "gugudan(3)\n",
        "# ...\n",
        "#gugudan(9)"
      ],
      "metadata": {
        "colab": {
          "base_uri": "https://localhost:8080/"
        },
        "id": "q-9PHWGEKJ9M",
        "outputId": "09d29a72-0a46-4cb3-c98e-9ebdf34599f2"
      },
      "execution_count": 28,
      "outputs": [
        {
          "output_type": "stream",
          "name": "stdout",
          "text": [
            "2 x 1 = 2\n",
            "2 x 2 = 4\n",
            "2 x 3 = 6\n",
            "2 x 4 = 8\n",
            "2 x 5 = 10\n",
            "2 x 6 = 12\n",
            "2 x 7 = 14\n",
            "2 x 8 = 16\n",
            "2 x 9 = 18\n",
            "3 x 1 = 3\n",
            "3 x 2 = 6\n",
            "3 x 3 = 9\n",
            "3 x 4 = 12\n",
            "3 x 5 = 15\n",
            "3 x 6 = 18\n",
            "3 x 7 = 21\n",
            "3 x 8 = 24\n",
            "3 x 9 = 27\n"
          ]
        }
      ]
    },
    {
      "cell_type": "markdown",
      "source": [
        "* 디폴트 매개변수\n",
        "\n",
        "def 함수이름 (매개변수1, 매개변수2 = A, 매개변수3 = B):\n",
        "    수행문장\n",
        "    return 반환값 "
      ],
      "metadata": {
        "id": "cWlRJjB1LIgM"
      }
    },
    {
      "cell_type": "code",
      "source": [
        "# 디폴트 파라미터 예제 1\n",
        "def func1(a, b=5, c=10):\n",
        "    return a + b + c\n",
        " \n",
        " \n",
        "a = func1(1, 2, 3)  # 1 + 2 + 3\n",
        "b = func1(1, 2)  # 1 + 2 + 10\n",
        "c = func1(1)  # 1 + 5 + 10\n",
        "# func1() error\n",
        "\n",
        "print(a)\n",
        "print(b)\n",
        "print(c)"
      ],
      "metadata": {
        "colab": {
          "base_uri": "https://localhost:8080/"
        },
        "id": "lubglOiHLPTq",
        "outputId": "b4acd82c-643a-4181-df81-e20c315fc90b"
      },
      "execution_count": 30,
      "outputs": [
        {
          "output_type": "stream",
          "name": "stdout",
          "text": [
            "6\n",
            "13\n",
            "16\n"
          ]
        }
      ]
    },
    {
      "cell_type": "code",
      "source": [
        "# 디폴트 파라미터 예제 2\n",
        "def func2(a=10, b=20):\n",
        "    return a + b\n",
        " \n",
        " \n",
        "d = func2(1, 2)  # 1 + 2\n",
        "e = func2(1)  # 1 + 20\n",
        "f = func2()  # 10 + 20\n",
        "\n",
        "print(d)\n",
        "print(e)\n",
        "print(f)"
      ],
      "metadata": {
        "colab": {
          "base_uri": "https://localhost:8080/"
        },
        "id": "GGcY21QpLlfq",
        "outputId": "31f0ce5d-1a76-45d2-b03b-49926e73dc8e"
      },
      "execution_count": 32,
      "outputs": [
        {
          "output_type": "stream",
          "name": "stdout",
          "text": [
            "3\n",
            "21\n",
            "30\n"
          ]
        }
      ]
    },
    {
      "cell_type": "markdown",
      "source": [
        "* 매개변수 N개\n",
        "\n",
        "def 함수이름 (*매개변수):\n",
        "    수행문장\n",
        "    return *반환값*"
      ],
      "metadata": {
        "id": "_eXB3GyWNBoj"
      }
    },
    {
      "cell_type": "code",
      "source": [
        "def func6(*args):\n",
        "    a = 0\n",
        "    for i in args:\n",
        "        a = a + i\n",
        "    return a\n",
        " \n",
        " \n",
        "b = func6(1, 2)\n",
        "print(b)\n",
        " \n",
        "c = func6(2, 3, 4, 5)\n",
        "print(c)\n",
        " \n",
        "d = func6(1, 2, 3, 4, 5, 4, 3, 2, 1)\n",
        "print(d)\n",
        " \n",
        "e = func6()\n",
        "print(e)"
      ],
      "metadata": {
        "colab": {
          "base_uri": "https://localhost:8080/"
        },
        "id": "ruifr880ND60",
        "outputId": "03d8c08d-c03e-4a41-9b1e-0780a99e5dba"
      },
      "execution_count": 34,
      "outputs": [
        {
          "output_type": "stream",
          "name": "stdout",
          "text": [
            "3\n",
            "14\n",
            "25\n",
            "0\n"
          ]
        }
      ]
    },
    {
      "cell_type": "markdown",
      "source": [
        "#**Formatting**"
      ],
      "metadata": {
        "id": "dOu3Wd3cMhIb"
      }
    },
    {
      "cell_type": "markdown",
      "source": [
        "* f-string"
      ],
      "metadata": {
        "id": "SlmnH80AMOuD"
      }
    },
    {
      "cell_type": "code",
      "source": [
        "'''\n",
        "f-string 포매팅은 파이썬 버전 3.6 부터 사용할 수 있는 따끈따끈한 기능 입니다.\n",
        "이전에 언급했던, %포매팅과 str.format 방법보다 더 최근에 나온 것 입니다.\n"
      ],
      "metadata": {
        "id": "JEbOkoPlBGl6"
      },
      "execution_count": null,
      "outputs": []
    },
    {
      "cell_type": "code",
      "source": [
        "month = 1\n",
        "while month <= 12:\n",
        "    print(f'2020년 {month}월')\n",
        "    month = month + 1"
      ],
      "metadata": {
        "colab": {
          "base_uri": "https://localhost:8080/"
        },
        "id": "dxZwtBZw-tIe",
        "outputId": "e3893ff2-5d95-44b3-cdf5-824d93af47d4"
      },
      "execution_count": null,
      "outputs": [
        {
          "output_type": "stream",
          "name": "stdout",
          "text": [
            "2020년 1월\n",
            "2020년 2월\n",
            "2020년 3월\n",
            "2020년 4월\n",
            "2020년 5월\n",
            "2020년 6월\n",
            "2020년 7월\n",
            "2020년 8월\n",
            "2020년 9월\n",
            "2020년 10월\n",
            "2020년 11월\n",
            "2020년 12월\n"
          ]
        }
      ]
    },
    {
      "cell_type": "markdown",
      "source": [
        "* %서식문자"
      ],
      "metadata": {
        "id": "d1tJJ3XaHNhL"
      }
    },
    {
      "cell_type": "code",
      "source": [
        "num = 50\n",
        "s = 'my age %d' % num\n",
        " \n",
        "print(s)"
      ],
      "metadata": {
        "colab": {
          "base_uri": "https://localhost:8080/"
        },
        "id": "SzJmnItQ_7R-",
        "outputId": "297c3ea3-82f9-4df9-c4d6-70561dbc9c15"
      },
      "execution_count": 1,
      "outputs": [
        {
          "output_type": "stream",
          "name": "stdout",
          "text": [
            "my age 50\n"
          ]
        }
      ]
    },
    {
      "cell_type": "code",
      "source": [
        "'''\n",
        "결과값은 \"my age %d\"위치에 num이 들어가게 되어서 \"my age 50\" 이런식으로 들어가게 됩니다.\n",
        "여기서 문자열 뒤에 % 를 붙이고 변수를 넣은 것을 잘 알아두셔야 합니다.\n",
        "\n",
        "정수 뿐만 아니라 실수, \n",
        "\n",
        "% 서식문자를 이용한 문자열 출력 자료형은 딱 3개만 알면 됩니다.\n",
        "%s -> 문자열\n",
        "%d -> 정수\n",
        "%f -> 실수\n",
        "\n",
        "굳이 더 알고 싶다면 아래 세개도 알아두면 좋습니다.\n",
        "\n",
        "%o -> 8진수\n",
        "%x -> 16진수\n",
        "%% -> 문자 % 표현\n",
        "\n",
        "출처: https://blockdmask.tistory.com/429 [개발자 지망생]\n",
        "\n",
        "'''"
      ],
      "metadata": {
        "id": "xieR5_yHAVvD"
      },
      "execution_count": null,
      "outputs": []
    },
    {
      "cell_type": "code",
      "source": [
        "# % 기호 문자 출력\n",
        "names = ['kim', 'park', 'lee']\n",
        "for name in names:\n",
        "    print('my name is %s' % name)\n",
        " \n",
        "# % 기호 정수 출력\n",
        "money = 10000\n",
        "s2 = 'give me %d won' % money\n",
        "print(s2)\n",
        " \n",
        "# % 기호 실수 출력\n",
        "d = 3.141592\n",
        "print('value %f' % d)"
      ],
      "metadata": {
        "colab": {
          "base_uri": "https://localhost:8080/"
        },
        "id": "WqwlCduXAlzJ",
        "outputId": "80653981-40a6-4ad3-d77c-b41b5e61e285"
      },
      "execution_count": 2,
      "outputs": [
        {
          "output_type": "stream",
          "name": "stdout",
          "text": [
            "my name is kim\n",
            "my name is park\n",
            "my name is lee\n",
            "give me 10000 won\n",
            "value 3.141592\n"
          ]
        }
      ]
    },
    {
      "cell_type": "markdown",
      "source": [
        "* str.format"
      ],
      "metadata": {
        "id": "jZADzc2vHZnt"
      }
    },
    {
      "cell_type": "code",
      "source": [
        "'''\n",
        "▶ 포메팅 이란?\n",
        "format 함수에 대해서 알기 전에 우린 문자열 포매팅이 뭔지 부터 알아야합니다.\n",
        "문자열 포매팅이란 문자열을 이쁘게 만드는 방법을 이야기합니다.\n",
        "좀 더 풀어서 이야기 해보자면 문자열 중간 중간에 특정 변수의 값을 넣어주기 위해서 사용하는 것 입니다.\n",
        "\n",
        "예를 들어 우리가 구구단 프로그램을 만들다 보면\n",
        "print('2 x 3 = 6') 이런식으로 노가다성으로 문자열을 만들지 않잖아요.\n",
        "2도 변수, 1도 변수, 결과값인 6도 변수로 사용되고 있을텐데, 이런 형태의 문자열을 포매팅 해서 문자열을 이쁘게 재사용하도록 하는것 입니다.\n",
        "\n",
        "곧 배우겠지만 format 함수를 사용하면 이렇게 되겠죠?\n",
        "(a, b가 변수라고 쳤을 때)\n",
        "print('{0} x {1} = 6'.format(a, b, a * b)) 이렇게 말이죠\n",
        "'''"
      ],
      "metadata": {
        "id": "EdLwCCq4Bsnv"
      },
      "execution_count": null,
      "outputs": []
    },
    {
      "cell_type": "code",
      "source": [
        "a = 2\n",
        "b = 3\n",
        " \n",
        "s = '구구단 {0} x {1} = {2}'.format(a, b, a * b)\n",
        "print(s)"
      ],
      "metadata": {
        "colab": {
          "base_uri": "https://localhost:8080/"
        },
        "id": "ZodTEO0LBv6y",
        "outputId": "91602fdf-3c0c-4dd9-e3de-725ee8a7ca2f"
      },
      "execution_count": 3,
      "outputs": [
        {
          "output_type": "stream",
          "name": "stdout",
          "text": [
            "구구단 2 x 3 = 6\n"
          ]
        }
      ]
    },
    {
      "cell_type": "code",
      "source": [
        "'''\n",
        "문자열 '구구단 {0} x {1} = {2}' 를 보면 중괄호를 이용해서 format 함수에서 넣어줄 것들을 표기 해줍니다.\n",
        "인덱스는 0 부터 시작합니다. 이렇게 표시를 해주고 .format 함수의 인자로 순서대로 넣을 변수들을 지정해 줍니다.\n",
        "'''"
      ],
      "metadata": {
        "id": "-ANdx7NICRur"
      },
      "execution_count": null,
      "outputs": []
    },
    {
      "cell_type": "code",
      "source": [
        "# 직접 대입하기\n",
        "s1 = 'name : {0}'.format('BlockDMask')\n",
        "print(s1)\n",
        " \n",
        " \n",
        "# 변수로 대입 하기\n",
        "age = 55\n",
        "s2 = 'age : {0}'.format(age)\n",
        "print(s2)\n",
        " \n",
        "# 이름으로 대입하기\n",
        "s3 = 'number : {num}, gender : {gen}'.format(num=1234, gen='남')\n",
        "print(s3)"
      ],
      "metadata": {
        "colab": {
          "base_uri": "https://localhost:8080/"
        },
        "id": "BTIQqbevCu-U",
        "outputId": "764c2ba9-0b6e-4920-bf7d-9c3e08878d07"
      },
      "execution_count": 4,
      "outputs": [
        {
          "output_type": "stream",
          "name": "stdout",
          "text": [
            "name : BlockDMask\n",
            "age : 55\n",
            "number : 1234, gender : 남\n"
          ]
        }
      ]
    },
    {
      "cell_type": "code",
      "source": [
        "# 왼쪽 정렬\n",
        "s9 = 'this is {0:<10} | done {1:<15} |'.format('left', 'a')\n",
        "print(s9)\n",
        " \n",
        " \n",
        "# 오른쪽 정렬\n",
        "s10 = 'this is {0:>10} | done {1:>15} |'.format('right', 'b')\n",
        "print(s10)\n",
        " \n",
        " \n",
        "# 가운데 정렬\n",
        "s11 = 'this is {0:^10} | done {1:^15} |'.format('center', 'c')\n",
        "print(s11)\n",
        "\n",
        "# 공백을 다른 값(#)으로 채워주기\n",
        "s12 = 'this is {0:#^10} | done {1:#^15} |'.format('center', 'c')\n",
        "print(s12)"
      ],
      "metadata": {
        "colab": {
          "base_uri": "https://localhost:8080/"
        },
        "id": "hrvpU5hoD0Np",
        "outputId": "bf42b01d-5dc1-4413-aa0c-e7c5f4d5bd11"
      },
      "execution_count": 8,
      "outputs": [
        {
          "output_type": "stream",
          "name": "stdout",
          "text": [
            "this is left       | done a               |\n",
            "this is      right | done               b |\n",
            "this is   center   | done        c        |\n",
            "this is ##center## | done #######c####### |\n"
          ]
        }
      ]
    },
    {
      "cell_type": "code",
      "source": [
        "# 정수 N자리\n",
        "s15 = '정수 3자리 : {0:03d}, {1:03d}'.format(12345, 12)\n",
        "print(s15)\n",
        " \n",
        " \n",
        "# 소수점 N자리\n",
        "s16 = '아래 2자리 : {0:0.2f}, 아래 5자리 : {1:0.5f}'.format(123.1234567, 3.14)\n",
        "print(s16)"
      ],
      "metadata": {
        "colab": {
          "base_uri": "https://localhost:8080/"
        },
        "id": "sPpnAuNDE01K",
        "outputId": "b234daa8-c696-483e-a030-494baee2dc96"
      },
      "execution_count": 9,
      "outputs": [
        {
          "output_type": "stream",
          "name": "stdout",
          "text": [
            "정수 3자리 : 12345, 012\n",
            "아래 2자리 : 123.12, 아래 5자리 : 3.14000\n"
          ]
        }
      ]
    },
    {
      "cell_type": "code",
      "source": [
        "# 구구단 표시 (2단과 3단만 표시)\n",
        "for a in range(2, 4):       # 앞에 표시하는 단 수 (2단, 3단)\n",
        "    for b in range(1, 10):  # 뒤에 곱하는 수\n",
        "        print('{0} x {1} = {2:02d}'.format(a, b, a*b))"
      ],
      "metadata": {
        "colab": {
          "base_uri": "https://localhost:8080/"
        },
        "id": "TJzUIjDtFbMi",
        "outputId": "412834a4-5633-4ff1-91bf-ceb451832265"
      },
      "execution_count": 20,
      "outputs": [
        {
          "output_type": "stream",
          "name": "stdout",
          "text": [
            "2 x 1 = 02\n",
            "2 x 2 = 04\n",
            "2 x 3 = 06\n",
            "2 x 4 = 08\n",
            "2 x 5 = 10\n",
            "2 x 6 = 12\n",
            "2 x 7 = 14\n",
            "2 x 8 = 16\n",
            "2 x 9 = 18\n",
            "3 x 1 = 03\n",
            "3 x 2 = 06\n",
            "3 x 3 = 09\n",
            "3 x 4 = 12\n",
            "3 x 5 = 15\n",
            "3 x 6 = 18\n",
            "3 x 7 = 21\n",
            "3 x 8 = 24\n",
            "3 x 9 = 27\n"
          ]
        }
      ]
    },
    {
      "cell_type": "code",
      "source": [
        "'''\n",
        "코드 및 설명 참고 출처: https://blockdmask.tistory.com/429 [개발자 지망생]\n",
        "'''"
      ],
      "metadata": {
        "id": "vzp4WY-8Nl-L"
      },
      "execution_count": null,
      "outputs": []
    }
  ]
}
