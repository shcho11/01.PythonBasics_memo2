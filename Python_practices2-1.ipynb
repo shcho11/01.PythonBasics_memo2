{
  "nbformat": 4,
  "nbformat_minor": 0,
  "metadata": {
    "colab": {
      "name": "Python_practices2-1",
      "provenance": [],
      "collapsed_sections": [],
      "authorship_tag": "ABX9TyOnwxixu+drDleqczjMYxkS",
      "include_colab_link": true
    },
    "kernelspec": {
      "name": "python3",
      "display_name": "Python 3"
    },
    "language_info": {
      "name": "python"
    }
  },
  "cells": [
    {
      "cell_type": "markdown",
      "metadata": {
        "id": "view-in-github",
        "colab_type": "text"
      },
      "source": [
        "<a href=\"https://colab.research.google.com/github/shcho11/Python_practices2/blob/main/Python_practices2-1.ipynb\" target=\"_parent\"><img src=\"https://colab.research.google.com/assets/colab-badge.svg\" alt=\"Open In Colab\"/></a>"
      ]
    },
    {
      "cell_type": "markdown",
      "metadata": {
        "id": "HXck7-HXjNqu"
      },
      "source": [
        "Python Practice 2-1"
      ]
    },
    {
      "cell_type": "markdown",
      "metadata": {
        "id": "L-47DDqqjY3h"
      },
      "source": [
        "practice #1 인수는 있으나 반환값이 없는 형태"
      ]
    },
    {
      "cell_type": "code",
      "metadata": {
        "colab": {
          "base_uri": "https://localhost:8080/"
        },
        "id": "riDNe6LijM0O",
        "outputId": "a452257b-7b55-4e77-f25f-934bc5fdb886"
      },
      "source": [
        "# 인수(value1, value2)는 이름을 다르게 지정해도 돌아감\n",
        "# value로 해도 plus(a,b)로 해도 돌아감\n",
        "# reult = 0 빼도 돌아감\n",
        "def plus(value1,value2):\n",
        "    result = 0\n",
        "    result = value1 + value2\n",
        "    print('두 수의 합은? :',result)\n",
        "\n",
        "a = int(input('첫번째 수: '))\n",
        "b = int(input('두번째 수: '))\n",
        "plus(a,b)"
      ],
      "execution_count": 1,
      "outputs": [
        {
          "output_type": "stream",
          "text": [
            "첫번째 수: 10\n",
            "두번째 수: 20\n",
            "두 수의 합은? : 30\n"
          ],
          "name": "stdout"
        }
      ]
    },
    {
      "cell_type": "markdown",
      "metadata": {
        "id": "yOjy9744jprs"
      },
      "source": [
        "practice #2 반환값이 있는 형태"
      ]
    },
    {
      "cell_type": "code",
      "metadata": {
        "colab": {
          "base_uri": "https://localhost:8080/"
        },
        "id": "2HcT96Jmj3wz",
        "outputId": "830a168a-3097-4b58-c64b-c8a2e538ad8a"
      },
      "source": [
        "def plus(v1,v2):\n",
        "    result = 0\n",
        "    result = v1 + v2\n",
        "    return result\n",
        "\n",
        "a = int(input('첫번째 수: '))\n",
        "b = int(input('두번째 수: '))\n",
        "print('두 수의 합 :',plus(a,b))\n",
        "# hap = plus(a,b)\n",
        "# print('두 수의 합 : ',hap)\n",
        "# 이렇게 해도 됨"
      ],
      "execution_count": 2,
      "outputs": [
        {
          "output_type": "stream",
          "text": [
            "첫번째 수: 20\n",
            "두번째 수: 30\n",
            "두 수의 합 : 50\n"
          ],
          "name": "stdout"
        }
      ]
    },
    {
      "cell_type": "markdown",
      "metadata": {
        "id": "8yMR8NQukCQh"
      },
      "source": [
        "practice #3 반환값이 여러개 있는 형태"
      ]
    },
    {
      "cell_type": "code",
      "metadata": {
        "colab": {
          "base_uri": "https://localhost:8080/"
        },
        "id": "XHoGOx9RkFbh",
        "outputId": "5e2f0f53-c90b-419d-8b50-7f5c542406ad"
      },
      "source": [
        "def multi_operator(v1,v2):\n",
        "    add = v1 + v2\n",
        "    mul = v1 * v2\n",
        "    return add,mul\n",
        "\n",
        "input_a = int(input('첫 번째 수를 입력하세요 : '))\n",
        "input_b = int(input('두 번째 수를 입력하세요 : '))\n",
        "result1, result2 = multi_operator(input_a,input_b)\n",
        "print('두 수의 합: %d, 두 수의 곱: %d' %(result1, result2))"
      ],
      "execution_count": 3,
      "outputs": [
        {
          "output_type": "stream",
          "text": [
            "첫 번째 수를 입력하세요 : 30\n",
            "두 번째 수를 입력하세요 : 40\n",
            "두 수의 합: 70, 두 수의 곱: 1200\n"
          ],
          "name": "stdout"
        }
      ]
    },
    {
      "cell_type": "markdown",
      "metadata": {
        "id": "Y7GjUlfLkMbz"
      },
      "source": [
        "practice #4 반환값이 여러개 있는 형태 (변수->리스트에 반환)"
      ]
    },
    {
      "cell_type": "code",
      "metadata": {
        "colab": {
          "base_uri": "https://localhost:8080/"
        },
        "id": "fEcqh41ckRMm",
        "outputId": "ba2568e6-fac3-4d37-ac67-84682dbd8da8"
      },
      "source": [
        "def multi_operator(v1,v2):\n",
        "    add = v1 + v2\n",
        "    mul = v1 * v2\n",
        "    return add,mul\n",
        "\n",
        "input_a = int(input('첫 번째 수를 입력하세요 : '))\n",
        "input_b = int(input('두 번째 수를 입력하세요 : '))\n",
        "result = multi_operator(input_a,input_b) # 반환변수가 한개일 경우, 리스트로 반환됨\n",
        "print('두 수의 합 : %d, 두 수의 곱 : %d' %(result[0],result[1]))"
      ],
      "execution_count": 4,
      "outputs": [
        {
          "output_type": "stream",
          "text": [
            "첫 번째 수를 입력하세요 : 30\n",
            "두 번째 수를 입력하세요 : 40\n",
            "두 수의 합 : 70, 두 수의 곱 : 1200\n"
          ],
          "name": "stdout"
        }
      ]
    },
    {
      "cell_type": "markdown",
      "metadata": {
        "id": "kgyE6aI2keTj"
      },
      "source": [
        "practice #5 반환값이 여러개 있는 형태 (리스트->리스트에 반환)"
      ]
    },
    {
      "cell_type": "code",
      "metadata": {
        "colab": {
          "base_uri": "https://localhost:8080/"
        },
        "id": "qWmS1UcIklsp",
        "outputId": "387780bf-239a-41b4-85c2-b5e185a0f0a5"
      },
      "source": [
        "def multi_operator(v1,v2):\n",
        "    result_list = []\n",
        "    add = v1 + v2\n",
        "    mul = v1 * v2\n",
        "    result_list.append(add)\n",
        "    result_list.append(mul)\n",
        "    return result_list\n",
        "    # 파이썬 리스트 요소 추가하기\n",
        "    # append: 리스트 마지막에 / insert: 위치지정 추가 /\n",
        "    # index: 원하는 요소가 리스트 어디 위치하고 있는지 확인 / extend : 리스트 확장\n",
        "\n",
        "input_a = int(input('첫번째 수 입력하세요 : '))\n",
        "input_b = int(input('두번째 수 입력하세요 : '))\n",
        "result = multi_operator(input_a,input_b)\n",
        "print('두 수의 합 : %d, 두 수의 곱 : %d' %(result[0],result[1]))"
      ],
      "execution_count": 12,
      "outputs": [
        {
          "output_type": "stream",
          "text": [
            "첫번째 수 입력하세요 : 10\n",
            "두번째 수 입력하세요 : 20\n",
            "두 수의 합 : 30, 두 수의 곱 : 200\n"
          ],
          "name": "stdout"
        }
      ]
    },
    {
      "cell_type": "markdown",
      "metadata": {
        "id": "nAsUehgkmiP2"
      },
      "source": [
        "practice #6 파라미터값과 반환값이 여러개 있는 경우"
      ]
    },
    {
      "cell_type": "code",
      "metadata": {
        "colab": {
          "base_uri": "https://localhost:8080/"
        },
        "id": "VOvvLW0QmnGj",
        "outputId": "375d3a1a-b15d-46a5-d245-fbe598341e89"
      },
      "source": [
        "def all_add_fuc(*para):\n",
        "    result = 0\n",
        "    for num in para:\n",
        "        result += num\n",
        "    return result, num\n",
        "\n",
        "hap = all_add_fuc(10)\n",
        "print(hap)\n",
        "hap, num = all_add_fuc(10,20,30,40)\n",
        "print(hap, num)"
      ],
      "execution_count": 13,
      "outputs": [
        {
          "output_type": "stream",
          "text": [
            "(10, 10)\n",
            "100 40\n"
          ],
          "name": "stdout"
        }
      ]
    },
    {
      "cell_type": "markdown",
      "metadata": {
        "id": "AWQagL2XmrIc"
      },
      "source": [
        "practice #7 함수로 입력되는 매개변수가 가변적인 경우"
      ]
    },
    {
      "cell_type": "code",
      "metadata": {
        "colab": {
          "base_uri": "https://localhost:8080/"
        },
        "id": "YzuZCCJrmuXU",
        "outputId": "ad98e291-3fad-4250-e0a2-7bbf66e81dd0"
      },
      "source": [
        "def cal_sum(*para):\n",
        "    hap = 0\n",
        "    for num in para:\n",
        "        hap += num\n",
        "    return hap\n",
        "\n",
        "total = cal_sum(10)\n",
        "print(total)\n",
        "total = cal_sum(10,20,30,40)\n",
        "print(total)"
      ],
      "execution_count": 14,
      "outputs": [
        {
          "output_type": "stream",
          "text": [
            "10\n",
            "100\n"
          ],
          "name": "stdout"
        }
      ]
    },
    {
      "cell_type": "markdown",
      "metadata": {
        "id": "uGegUxw4mxbm"
      },
      "source": [
        "practice #8 모듈 임포트하여 사용하기"
      ]
    },
    {
      "cell_type": "code",
      "metadata": {
        "colab": {
          "base_uri": "https://localhost:8080/"
        },
        "id": "tVfxqjRzm8An",
        "outputId": "e321a927-a2b5-4ee9-eff2-fdf53f173a16"
      },
      "source": [
        "#모듈 import\n",
        "import sys\n",
        "print(sys.builtin_module_names)"
      ],
      "execution_count": 15,
      "outputs": [
        {
          "output_type": "stream",
          "text": [
            "('_abc', '_ast', '_bisect', '_blake2', '_codecs', '_collections', '_datetime', '_elementtree', '_functools', '_heapq', '_imp', '_io', '_locale', '_md5', '_operator', '_pickle', '_posixsubprocess', '_random', '_sha1', '_sha256', '_sha3', '_sha512', '_signal', '_socket', '_sre', '_stat', '_string', '_struct', '_symtable', '_thread', '_tracemalloc', '_warnings', '_weakref', 'array', 'atexit', 'binascii', 'builtins', 'errno', 'faulthandler', 'fcntl', 'gc', 'grp', 'itertools', 'marshal', 'math', 'posix', 'pwd', 'pyexpat', 'select', 'spwd', 'sys', 'syslog', 'time', 'unicodedata', 'xxsubtype', 'zipimport', 'zlib')\n"
          ],
          "name": "stdout"
        }
      ]
    },
    {
      "cell_type": "code",
      "metadata": {
        "colab": {
          "base_uri": "https://localhost:8080/"
        },
        "id": "l_OGQgZ4nCFH",
        "outputId": "b9a4724d-2e7f-4a19-f0a6-f5fcc238d371"
      },
      "source": [
        "#import(시간)\n",
        "import time\n",
        "print(time.ctime())\n",
        "print(time.localtime())"
      ],
      "execution_count": 16,
      "outputs": [
        {
          "output_type": "stream",
          "text": [
            "Wed May  5 08:19:31 2021\n",
            "time.struct_time(tm_year=2021, tm_mon=5, tm_mday=5, tm_hour=8, tm_min=19, tm_sec=31, tm_wday=2, tm_yday=125, tm_isdst=0)\n"
          ],
          "name": "stdout"
        }
      ]
    },
    {
      "cell_type": "code",
      "metadata": {
        "id": "hSzP4MaXnGto"
      },
      "source": [
        "#import(랜덤)\n",
        "\n",
        "#파이썬에서 윈도우를 만들기 위해서는 tkinter 라는 것을 임포트 해줘야한다.\n",
        "#from tkinter import* 이런식으로 추가 가능하다.\n",
        "#Tk() 라는 함수를 통해 윈도우를 만드는 것이 가능하고,\n",
        "#윈도우.title(\"타이틀명\") 을 통해 캡션을 정해 줄 수 있다.\n",
        "#윈도우.geometry(\"윈도우 창 크기\") 을 통해 윈도우의 크기를 정해줄 수 있고,\n",
        "#윈도우.resizable(width , height ) 을 통해 최대화 가능 범위를 지정해 줄 수 있다. (둘다 FALSE면 작동이 되지않는다)\n",
        "\n",
        "from tkinter import *\n",
        "\n",
        "window = None\n",
        "window = Tk()\n",
        "window.title('myWindow')\n",
        "title_label = Label(window, text='Korea University',\n",
        "                    font = 'Arial 25 bold',\n",
        "                    relief = RAISED)\n",
        "title_label.grid(row=0, column=0, padx=5, pady=5)\n",
        "window = mainloop()"
      ],
      "execution_count": null,
      "outputs": []
    }
  ]
}